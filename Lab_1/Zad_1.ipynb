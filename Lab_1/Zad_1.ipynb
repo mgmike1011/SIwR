{
 "cells": [
  {
   "cell_type": "markdown",
   "source": [
    "# Zadanie 1"
   ],
   "metadata": {
    "collapsed": false
   }
  },
  {
   "cell_type": "markdown",
   "source": [
    "#### 1. Zapisz łączne prawdopodobieństwo jako tablicę numpy o odpowiednich wymiarach."
   ],
   "metadata": {
    "collapsed": false
   }
  },
  {
   "cell_type": "code",
   "execution_count": 2,
   "metadata": {
    "collapsed": true
   },
   "outputs": [
    {
     "name": "stdout",
     "output_type": "stream",
     "text": [
      "P: [[[0.108 0.012]\n",
      "  [0.072 0.008]]\n",
      "\n",
      " [[0.016 0.064]\n",
      "  [0.144 0.576]]]\n"
     ]
    }
   ],
   "source": [
    "import numpy as np\n",
    "P = np.array([[[0.108, 0.012], [0.072, 0.008]], [[0.016, 0.064], [0.144, 0.576]]]) #indeksy - [cav][toothache][catch]\n",
    "print(f'P: {P}')"
   ]
  },
  {
   "cell_type": "markdown",
   "source": [
    "#### 2. Oblicz P(Toothache) (przydatne funkcje: np.sum)."
   ],
   "metadata": {
    "collapsed": false
   }
  },
  {
   "cell_type": "code",
   "execution_count": 3,
   "outputs": [
    {
     "name": "stdout",
     "output_type": "stream",
     "text": [
      "P_tot: [0.2 0.8]\n"
     ]
    }
   ],
   "source": [
    "P_cav_too = np.sum(P, axis = -1)#axis 0 - kolumnami , 1 - wierszami -> najpierw pozbywamy się osi 0, a potem osi 2\n",
    "P_too = np.sum(P_cav_too, axis = 0) #Marginalizacja to jest sumowanie po tych zmiennych, których chcemy się pozbyć\n",
    "print(f'P_tot: {P_too}')"
   ],
   "metadata": {
    "collapsed": false
   }
  },
  {
   "cell_type": "markdown",
   "source": [
    "#### 3. Oblicz P(Cavity)."
   ],
   "metadata": {
    "collapsed": false
   }
  },
  {
   "cell_type": "code",
   "execution_count": 4,
   "outputs": [
    {
     "name": "stdout",
     "output_type": "stream",
     "text": [
      "P_cav: [0.2 0.8]\n"
     ]
    }
   ],
   "source": [
    "P_cav = np.sum(P_cav_too, axis=-1)\n",
    "print(f'P_cav: {P_cav}')"
   ],
   "metadata": {
    "collapsed": false
   }
  },
  {
   "cell_type": "markdown",
   "source": [
    "#### 4. Oblicz P(Toothache|Cavity). Wynik zapisz tak, aby indeks zmiennej Toothache był pierwszym wymiarem (przydatne funkcje: np.transpose)."
   ],
   "metadata": {
    "collapsed": false
   }
  },
  {
   "cell_type": "code",
   "execution_count": 5,
   "outputs": [
    {
     "name": "stdout",
     "output_type": "stream",
     "text": [
      "P_too_giv_cav: [[0.6 0.1]\n",
      " [0.4 0.9]]\n"
     ]
    }
   ],
   "source": [
    "P_too_giv_cav = np.transpose(P_cav_too) / P_cav\n",
    "print(f'P_too_giv_cav: {P_too_giv_cav}')"
   ],
   "metadata": {
    "collapsed": false
   }
  },
  {
   "cell_type": "markdown",
   "source": [
    "#### 5. Oblicz P(Cavity|toothache∨catch), gdzie toothache∨catch oznacza występowanie bólu zęba lub zakleszczenia."
   ],
   "metadata": {
    "collapsed": false
   }
  },
  {
   "cell_type": "code",
   "execution_count": 6,
   "outputs": [
    {
     "name": "stdout",
     "output_type": "stream",
     "text": [
      "P_cav_giv_too_or_catch: [0.46153846 0.53846154]\n"
     ]
    }
   ],
   "source": [
    "P_cav_giv_too_or_catch = (P_cav - P[:,1,1]) / (np.sum(P, axis=(0,1,2)) - np.sum(P[:,1,1], axis=0))\n",
    "print(f'P_cav_giv_too_or_catch: {P_cav_giv_too_or_catch}')"
   ],
   "metadata": {
    "collapsed": false
   }
  },
  {
   "cell_type": "markdown",
   "source": [
    "#### 6. Jak zależy wielkość tablicy z pełnym rozkładem prawdopodobieństwa od liczby zmiennych, zakładając, że zmienne te są binarne (każda może przyjąć 2 wartości)?"
   ],
   "metadata": {
    "collapsed": false
   }
  },
  {
   "cell_type": "markdown",
   "source": [
    "##### Odp: Wielkość tablicy -> 2^liczba zmiennych^. W tym przypadku 2^3^ = 8"
   ],
   "metadata": {
    "collapsed": false
   }
  },
  {
   "cell_type": "markdown",
   "source": [
    "#### 7. Ile pamięci operacyjnej byłoby potrzebne do przechowania takiej tablicy dla 32 zmiennych, zapisując liczby jako 32 bitowy float?"
   ],
   "metadata": {
    "collapsed": false
   }
  },
  {
   "cell_type": "markdown",
   "source": [
    "##### Odp: ilosc_pamieci = 32 * 2^32^ bitów = 2^37^ bajtów = 137438953472 bitów = 16384 MB = 16GB"
   ],
   "metadata": {
    "collapsed": false
   }
  },
  {
   "cell_type": "markdown",
   "source": [
    "#### 8. Jak obliczyć P(Cavity|Toothache,Catch) nie znając pełnego rozkładu, a dysponując jedynie P(Toothache,Catch|Cavity) oraz P(Cavity)? Zaimplementuj i przetestuj rozwiązanie (zasymuluj dostępność P(Toothache,Catch|Cavity) oraz P(Cavity) obliczając te rozkłady z rozkładu łącznego). Jakie jest prawdopodobieństwo, że pacjent ma próchnicę, jeśli boli go ząb i wiertło nie zakleszczyło się w zębie? A jakie jeśli boli go ząb i wiertło zakleszczyło się w zębie?"
   ],
   "metadata": {
    "collapsed": false
   }
  },
  {
   "cell_type": "code",
   "execution_count": 7,
   "outputs": [
    {
     "name": "stdout",
     "output_type": "stream",
     "text": [
      "P_too_cat_giv_cav  [[[0.54 0.06]\n",
      "  [0.36 0.04]]\n",
      "\n",
      " [[0.02 0.08]\n",
      "  [0.18 0.72]]]\n",
      "P_too_cat:  [[0.124 0.076]\n",
      " [0.216 0.584]]\n",
      "P_cav_giv_too_cat  [[[0.87096774 0.15789474]\n",
      "  [0.33333333 0.01369863]]\n",
      "\n",
      " [[0.12903226 0.84210526]\n",
      "  [0.66666667 0.98630137]]]\n"
     ]
    }
   ],
   "source": [
    "# (1) Regula iloczynu: P(a,b) = P(a|b)P(b)\n",
    "# (2) Regula Bayesa: P(b|a) = P(a|b)*P(b)/P(a)\n",
    "# Zatem z (2) P(Cav|Too,Cat)=P(Too,Cat|Cav)*P(Cav)/P(Too,Cat)\n",
    "# Z (1) P(Cav|Too,Cat)=P(Too,Cat,Cav)/P(Too,Cat)\n",
    "# Stąd P(Too,Cat,Cav)=P(Too,Cat|Cav)*P(Cav)\n",
    "\n",
    "P_too_cat_giv_cav = P/np.reshape(P_cav, (2, 1, 1))\n",
    "# P_too_cat_giv_cav = P/np.transpose(P_cav, axes=(-1, -2))\n",
    "print(\"P_too_cat_giv_cav \", P_too_cat_giv_cav)\n",
    "\n",
    "P_too_cat = np.sum(P, axis=0)\n",
    "print(\"P_too_cat: \", P_too_cat)\n",
    "\n",
    "P_cav_giv_too_cat = P/P_too_cat\n",
    "print(\"P_cav_giv_too_cat \",P_cav_giv_too_cat)\n",
    "# Wspolczynnik normalizujacy alfa, suma wartosci w rozkladzie musi sie rownac 1, czyli podzielic przez sume wszystkich elementow (1/suma elementow w rozkladzie)"
   ],
   "metadata": {
    "collapsed": false
   }
  },
  {
   "cell_type": "markdown",
   "source": [
    "#### 9. Czy zmienne Toothache i Catch są od siebie niezależne? Co z niezależnością warunkową, mając dane Cavity?"
   ],
   "metadata": {
    "collapsed": false
   }
  },
  {
   "cell_type": "markdown",
   "source": [
    "##### Odp: Są zależne, chyba, że mamy do czynienia  próchnicą, wówczas mamy zmienne są niezależne."
   ],
   "metadata": {
    "collapsed": false
   }
  },
  {
   "cell_type": "markdown",
   "source": [
    "#### 10. Wykorzystaj te zależności, aby obliczyć P(Cavity|Toothache,Catch) mając dane P(Toothache|Cavity), P(Catch|Cavity) oraz P(Cavity)."
   ],
   "metadata": {
    "collapsed": false
   }
  },
  {
   "cell_type": "code",
   "execution_count": 8,
   "outputs": [
    {
     "name": "stdout",
     "output_type": "stream",
     "text": [
      "P(Cav | Too, Cat) zadanie 10.:  [[[0.87096774 0.15789474]\n",
      "  [0.33333333 0.01369863]]\n",
      "\n",
      " [[0.12903226 0.84210526]\n",
      "  [0.66666667 0.98630137]]]\n"
     ]
    }
   ],
   "source": [
    "# Korzystając z zadania 8. wiemy, że:\n",
    "# 1) P(Cav | Too, Cat) = P(Too, Cat | Cav) * P(Cav) / P(Too,Cat)\n",
    "# 2) P(Cav | Too, Cat) = P(Cav, Too, Cat) / P(Too, Cat)\n",
    "# Zmienne Toothache i Catch są niezależne pod warunkiem Cavity, zatem P(Too, Cat | Cav) = P(Too | Cav) * P(Catch | Cavity)\n",
    "# P(Cav | Too, Cat) = P(Too | Cav) * P(Cat | Cav) * P(Cav) / P(Too, Cat)\n",
    "# P(Too | Cav) = P_toothache_giv_cavity, P(Cat | Cav) = P_cat_git_cavity, P(Cav) = P_cav, P(Too, Cat) = P_too_cat\n",
    "\n",
    "# P(Cav|Too,Cat) = P(Too|Cav)*P(Cat|Cav)*P(Cav)/P(Too,Cat) = P(Too,Cat|Cav)*P(Cav)/P(Too,Cat)\n",
    "P_Cav_giv_too_cat_10 = P_too_cat_giv_cav * np.reshape(P_cav, (2, 1, 1)) / P_too_cat\n",
    "print(\"P(Cav | Too, Cat) zadanie 10.: \", P_Cav_giv_too_cat_10)"
   ],
   "metadata": {
    "collapsed": false
   }
  },
  {
   "cell_type": "markdown",
   "source": [
    "#### 11. Jak rozłożyć pełen rozkład prawdopodobieństwa za pomocą danych z poprzedniego podpunktu?"
   ],
   "metadata": {
    "collapsed": false
   }
  },
  {
   "cell_type": "markdown",
   "source": [
    "##### Odp: P(Cav, Too, Cat) = P(Cav|Too,Cat)*P(Too,Cat) = P(Too|Cav)*P(Cat|Cav)*P(Cav)"
   ],
   "metadata": {
    "collapsed": false
   }
  },
  {
   "cell_type": "markdown",
   "source": [
    "#### 11. Ile pamięci potrzeba do przechowywania pełnego rozkładu, rozłożonego na czynniki, jeśli mamy 31 niezależnych warunkowo zmiennych i jedną zmienną separującą te zmienne?"
   ],
   "metadata": {
    "collapsed": false
   }
  },
  {
   "cell_type": "markdown",
   "source": [
    "##### Odp: Mamy 31 niezależnych zmiennych. Zakładamy, że zmienne mają wartości binarne (0/1), zatem będzie 31 tablic dwuelementowych z prawdopodobieństwem warunkowym (pod warunkiem zmiennej separującej).\n",
    "Jeśli zmienna sepacująca = B, to mamy P(A1|B), P(A2|B)...P(A31|B)\n",
    "Mamy też tablicę dwuelementową z prawdopodobieństwem zmiennej separującej P(B)\n",
    "Iloczyn prawdopodobieństw = pełen rozkład\n",
    "\n",
    "Ile zmiennych: 31*2+2 (31 tablic dwuelementowych + tablica dwuelementowa)\n",
    "Pamięć = rozmiar zmiennych (np. 32 bity) * Ile zmiennych"
   ],
   "metadata": {
    "collapsed": false
   }
  }
 ],
 "metadata": {
  "kernelspec": {
   "display_name": "Python 3",
   "language": "python",
   "name": "python3"
  },
  "language_info": {
   "codemirror_mode": {
    "name": "ipython",
    "version": 2
   },
   "file_extension": ".py",
   "mimetype": "text/x-python",
   "name": "python",
   "nbconvert_exporter": "python",
   "pygments_lexer": "ipython2",
   "version": "2.7.6"
  }
 },
 "nbformat": 4,
 "nbformat_minor": 0
}

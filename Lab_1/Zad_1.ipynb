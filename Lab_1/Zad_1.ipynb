{
 "cells": [
  {
   "cell_type": "markdown",
   "source": [
    "# Zadanie 1"
   ],
   "metadata": {
    "collapsed": false
   }
  },
  {
   "cell_type": "markdown",
   "source": [
    "#### 1. Zapisz łączne prawdopodobieństwo jako tablicę numpy o odpowiednich wymiarach."
   ],
   "metadata": {
    "collapsed": false
   }
  },
  {
   "cell_type": "code",
   "execution_count": 3,
   "metadata": {
    "collapsed": true
   },
   "outputs": [
    {
     "name": "stdout",
     "output_type": "stream",
     "text": [
      "P: [[0.12 0.08]\n",
      " [0.08 0.72]]\n"
     ]
    }
   ],
   "source": [
    "import numpy as np\n",
    "P = np.array([[0.108+0.012, 0.072+0.008], [0.016+0.064, 0.144+0.576]])\n",
    "print(f'P: {P}')"
   ]
  },
  {
   "cell_type": "markdown",
   "source": [
    "#### 2. Oblicz P(Toothache) (przydatne funkcje: np.sum)."
   ],
   "metadata": {
    "collapsed": false
   }
  },
  {
   "cell_type": "code",
   "execution_count": 4,
   "outputs": [
    {
     "name": "stdout",
     "output_type": "stream",
     "text": [
      "P_tot: [0.2 0.8]\n"
     ]
    }
   ],
   "source": [
    "P_tot = P.sum(axis=1)\n",
    "print(f'P_tot: {P_tot}')"
   ],
   "metadata": {
    "collapsed": false
   }
  },
  {
   "cell_type": "markdown",
   "source": [
    "#### 3. Oblicz P(Cavity)."
   ],
   "metadata": {
    "collapsed": false
   }
  },
  {
   "cell_type": "code",
   "execution_count": 5,
   "outputs": [
    {
     "name": "stdout",
     "output_type": "stream",
     "text": [
      "P_cav: [0.2 0.8]\n"
     ]
    }
   ],
   "source": [
    "P_cav = P.sum(axis=0)\n",
    "print(f'P_cav: {P_cav}')"
   ],
   "metadata": {
    "collapsed": false
   }
  },
  {
   "cell_type": "markdown",
   "source": [
    "#### 4. Oblicz P(Toothache|Cavity). Wynik zapisz tak, aby indeks zmiennej Toothache był pierwszym wymiarem (przydatne funkcje: np.transpose)."
   ],
   "metadata": {
    "collapsed": false
   }
  },
  {
   "cell_type": "code",
   "execution_count": 6,
   "outputs": [
    {
     "name": "stdout",
     "output_type": "stream",
     "text": [
      "P_too_giv_cav: [[0.6 0.1]\n",
      " [0.4 0.9]]\n"
     ]
    }
   ],
   "source": [
    "P_too_giv_cav = P/P_cav\n",
    "print(f'P_too_giv_cav: {P_too_giv_cav}')"
   ],
   "metadata": {
    "collapsed": false
   }
  },
  {
   "cell_type": "markdown",
   "source": [
    "#### 5. Oblicz P(Cavity|toothache∨catch), gdzie toothache∨catch oznacza występowanie bólu zęba lub zakleszczenia."
   ],
   "metadata": {
    "collapsed": false
   }
  },
  {
   "cell_type": "code",
   "execution_count": 7,
   "outputs": [
    {
     "name": "stdout",
     "output_type": "stream",
     "text": [
      "P_cav_giv_too_or_catch: [[0.1377551  0.01530612 0.09183673 0.01020408]\n",
      " [0.02040816 0.08163265 0.18367347 0.73469388]]\n"
     ]
    }
   ],
   "source": [
    "# Złe #TODO\n",
    "P = np.array([[0.108, 0.012, 0.072, 0.008],\n",
    "                  [0.016, 0.064, 0.144, 0.576]])\n",
    "P_cav_giv_too_or_catch = P/np.sum(P[:, 0] + P[:, 1] + P[:, 3])\n",
    "print(f'P_cav_giv_too_or_catch: {P_cav_giv_too_or_catch}')"
   ],
   "metadata": {
    "collapsed": false
   }
  },
  {
   "cell_type": "markdown",
   "source": [
    "#### 6. Jak zależy wielkość tablicy z pełnym rozkładem prawdopodobieństwa od liczby zmiennych, zakładając, że zmienne te są binarne (każda może przyjąć 2 wartości)?"
   ],
   "metadata": {
    "collapsed": false
   }
  },
  {
   "cell_type": "markdown",
   "source": [
    "##### Odp:"
   ],
   "metadata": {
    "collapsed": false
   }
  },
  {
   "cell_type": "markdown",
   "source": [
    "#### 7. Ile pamięci operacyjnej byłoby potrzebne do przechowania takiej tablicy dla 32 zmiennych, zapisując liczby jako 32 bitowy float?"
   ],
   "metadata": {
    "collapsed": false
   }
  },
  {
   "cell_type": "markdown",
   "source": [
    "##### Odp: ilosc_pamieci = 32 * 32 # * jakas liczba TODO"
   ],
   "metadata": {
    "collapsed": false
   }
  },
  {
   "cell_type": "markdown",
   "source": [
    "#### 8. Jak obliczyć P(Cavity|Toothache,Catch) nie znając pełnego rozkładu, a dysponując jedynie P(Toothache,Catch|Cavity) oraz P(Cavity)? Zaimplementuj i przetestuj rozwiązanie (zasymuluj dostępność P(Toothache,Catch|Cavity) oraz P(Cavity) obliczając te rozkłady z rozkładu łącznego). Jakie jest prawdopodobieństwo, że pacjent ma próchnicę, jeśli boli go ząb i wiertło nie zakleszczyło się w zębie? A jakie jeśli boli go ząb i wiertło zakleszczyło się w zębie?"
   ],
   "metadata": {
    "collapsed": false
   }
  },
  {
   "cell_type": "code",
   "execution_count": 8,
   "outputs": [],
   "source": [
    "# TODO"
   ],
   "metadata": {
    "collapsed": false
   }
  },
  {
   "cell_type": "markdown",
   "source": [
    "#### 9. Czy zmienne Toothache i Catch są od siebie niezależne? Co z niezależnością warunkową, mając dane Cavity?"
   ],
   "metadata": {
    "collapsed": false
   }
  },
  {
   "cell_type": "markdown",
   "source": [
    "##### Odp:"
   ],
   "metadata": {
    "collapsed": false
   }
  },
  {
   "cell_type": "markdown",
   "source": [
    "#### 10. Wykorzystaj te zależności, aby obliczyć P(Cavity|Toothache,Catch) mając dane P(Toothache|Cavity), P(Catch|Cavity) oraz P(Cavity)."
   ],
   "metadata": {
    "collapsed": false
   }
  },
  {
   "cell_type": "code",
   "execution_count": null,
   "outputs": [],
   "source": [
    "#TODO"
   ],
   "metadata": {
    "collapsed": false
   }
  },
  {
   "cell_type": "markdown",
   "source": [
    "#### 11. Jak rozłożyć pełen rozkład prawdopodobieństwa za pomocą danych z poprzedniego podpunktu?"
   ],
   "metadata": {
    "collapsed": false
   }
  },
  {
   "cell_type": "markdown",
   "source": [
    "##### Odp:"
   ],
   "metadata": {
    "collapsed": false
   }
  },
  {
   "cell_type": "markdown",
   "source": [
    "#### 11. Ile pamięci potrzeba do przechowywania pełnego rozkładu, rozłożonego na czynniki, jeśli mamy 31 niezależnych warunkowo zmiennych i jedną zmienną separującą te zmienne?"
   ],
   "metadata": {
    "collapsed": false
   }
  },
  {
   "cell_type": "markdown",
   "source": [
    "##### Odp:"
   ],
   "metadata": {
    "collapsed": false
   }
  }
 ],
 "metadata": {
  "kernelspec": {
   "display_name": "Python 3",
   "language": "python",
   "name": "python3"
  },
  "language_info": {
   "codemirror_mode": {
    "name": "ipython",
    "version": 2
   },
   "file_extension": ".py",
   "mimetype": "text/x-python",
   "name": "python",
   "nbconvert_exporter": "python",
   "pygments_lexer": "ipython2",
   "version": "2.7.6"
  }
 },
 "nbformat": 4,
 "nbformat_minor": 0
}
